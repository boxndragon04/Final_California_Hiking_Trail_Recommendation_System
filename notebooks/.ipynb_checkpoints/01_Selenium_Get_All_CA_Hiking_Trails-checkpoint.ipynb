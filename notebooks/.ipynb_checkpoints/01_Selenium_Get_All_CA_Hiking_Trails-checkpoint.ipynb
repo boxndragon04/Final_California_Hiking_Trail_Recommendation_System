{
 "cells": [
  {
   "cell_type": "markdown",
   "metadata": {},
   "source": [
    "# Scrapping California Trails"
   ]
  },
  {
   "cell_type": "markdown",
   "metadata": {},
   "source": [
    "This is the first Jupyter Notebook.\n",
    "\n",
    "In this Jupyter Notebook I used selenium to scrap all California Trails from www.alltrails.com\n",
    "\n",
    "I found some code from here on scrapping Colorado Hiking Trails: <br>\n",
    "https://github.com/oschow/take-a-hike/blob/master/AllTrails/scrape_clean/scrape_ratings.py\n",
    "\n",
    "This code is from 2016, so some of it doesn't work but it was a good reference for me to get started on using the selenium library to scrap from a Javascript website. \n",
    "\n",
    "I had to also read up on selenium, from this website: https://www.seleniumhq.org/docs/03_webdriver.jsp\n",
    "\n",
    "I also had to download chromedriver from here: http://chromedriver.chromium.org/downloads This is used with selenium to automate the button clicking to load more hiking trails and user reviews\n",
    "\n",
    "I used the beautiful soup library for scrapping which we learned in class at General Assembly\n",
    "\n",
    "# **NOTE:** \n",
    "- <span style=\"color:Red\"> If you run this code it will take a very long time to run as it continues to press the load more button until all 7000+ trails are loaded."
   ]
  },
  {
   "cell_type": "markdown",
   "metadata": {},
   "source": [
    "## Libraries"
   ]
  },
  {
   "cell_type": "code",
   "execution_count": 1,
   "metadata": {},
   "outputs": [],
   "source": [
    "from selenium import webdriver\n",
    "from selenium.webdriver.support.ui import WebDriverWait\n",
    "from selenium.webdriver.common.by import By\n",
    "from selenium.webdriver.support import expected_conditions as EC\n",
    "from bs4 import BeautifulSoup\n",
    "import time\n",
    "import pandas as pd"
   ]
  },
  {
   "cell_type": "markdown",
   "metadata": {},
   "source": [
    "## Functions"
   ]
  },
  {
   "cell_type": "markdown",
   "metadata": {},
   "source": [
    "This function **get_all_hikes** calls in the webdriver browser chromedrive by going\n",
    "to https://www.alltrails.com/us/california?ref=search and does the following:\n",
    "1. Loads in the browser Chrome Webdriver\n",
    "2. Clicks the load more button until the button no longer exist\n",
    "5. Saves the BeautifulSoup to soup\n",
    "6. Returns soup"
   ]
  },
  {
   "cell_type": "code",
   "execution_count": 1,
   "metadata": {},
   "outputs": [],
   "source": [
    "def get_all_hikes(browser):\n",
    "    browser.get('https://www.alltrails.com/us/california?ref=search')\n",
    "# This counter is used to count the number of times it goes through the loop\n",
    "#     counter = 1\n",
    "    while True:\n",
    "    # This while loop presses the load more button\n",
    "        try:\n",
    "        # This try is an error handler so it attempts to load the button\n",
    "            load_more_hikes = WebDriverWait(driver=browser, timeout=10).until(\n",
    "                EC.visibility_of_element_located((\n",
    "                By.XPATH, \n",
    "                \"//div[@id='load_more'] [@class='feed-item load-more trail-load'][//a]\")))\n",
    "            load_more_hikes.click()\n",
    "            time.sleep(5)\n",
    "            \n",
    "# this is commented out when I test a small subset to make sure the code ran\n",
    "# It breaks at 3 load button presses\n",
    "#             counter+=1\n",
    "#             if counter == 3:\n",
    "#                 break\n",
    "        except:\n",
    "        # once the button is gone it will break\n",
    "            break\n",
    "            \n",
    "    # Once the browser is fully loaded with all the trails, \n",
    "    # no more load button, we can save all the BeautifulSoup \n",
    "    # and save the soup and return the soup for evaluation \n",
    "    # and extracting all the trails\n",
    "    soup = BeautifulSoup(browser.page_source, \"lxml\")\n",
    "    return soup"
   ]
  },
  {
   "cell_type": "markdown",
   "metadata": {},
   "source": [
    "## Main Code"
   ]
  },
  {
   "cell_type": "code",
   "execution_count": 3,
   "metadata": {},
   "outputs": [],
   "source": [
    "# define browser as Chrome web driver\n",
    "browser = webdriver.Chrome('../chromedriver')\n",
    "\n",
    "# define soup to call the function get_all_hikes\n",
    "soup = get_all_hikes(browser)\n",
    "\n",
    "# This saves the soup trail results cards as hikes\n",
    "hikes = soup.select('div.trail-result-card')\n",
    "\n",
    "# using a comphrehensive list, I extracted the name of every trail into a list,\n",
    "# and called this list trails_webpage\n",
    "trails_webpage = [hike.findChild('a')['href'] for hike in hikes]"
   ]
  },
  {
   "cell_type": "markdown",
   "metadata": {},
   "source": [
    "#### Saving the Trails Web Extension data frame as a csv"
   ]
  },
  {
   "cell_type": "code",
   "execution_count": 4,
   "metadata": {},
   "outputs": [],
   "source": [
    "pd.DataFrame(data={'trails_web_extension': trails_webpage}).to_csv('./trails_df.csv', index=False)"
   ]
  },
  {
   "cell_type": "code",
   "execution_count": 5,
   "metadata": {
    "scrolled": true
   },
   "outputs": [],
   "source": [
    "# This saves the name of the hikes\n",
    "trail_name = [hike.findChild('h3').text for hike in hikes]"
   ]
  },
  {
   "cell_type": "markdown",
   "metadata": {},
   "source": [
    "#### Example of the raw data scrapped of one of the hikes. This is the HTML"
   ]
  },
  {
   "cell_type": "code",
   "execution_count": 69,
   "metadata": {
    "scrolled": true
   },
   "outputs": [
    {
     "data": {
      "text/plain": [
       "<div class=\"trail-result-card\" data-id=\"0\" data-reactid=\"6\" itemid=\"/trail/us/california/potato-chip-rock-via-mt-woodson-trail\" itemprop=\"containsPlace\" itemscope=\"\" itemtype=\"http://schema.org/LocalBusiness\" style=\"width:100%;background-color:rgba(108,139,133,1);background-image:linear-gradient(rgba(0, 0, 0, 0.0), rgba(0, 0, 0, 0.7)), url(/api/alltrails/trails/10111800/profile_photo?show_placeholder=no&amp;size=large&amp;key=3p0t5s6b5g4g0e8k3c1j3w7y5c3m4t8i);background-repeat:no-repeat;background-position:center center;height:145px;\"><span class=\"item-rank\" data-reactid=\"7\"><!-- react-text: 8 -->#<!-- /react-text --><!-- react-text: 9 -->1<!-- /react-text --></span><link data-reactid=\"10\" href=\"/api/alltrails/trails/10111800/profile_photo?show_placeholder=no&amp;size=large&amp;key=3p0t5s6b5g4g0e8k3c1j3w7y5c3m4t8i\" itemprop=\"image\"/><a class=\"item-link\" data-reactid=\"11\" href=\"/trail/us/california/potato-chip-rock-via-mt-woodson-trail?ref=result-card\" itemprop=\"url\"></a><div class=\"item\" data-reactid=\"12\"><div class=\"item-info\" data-reactid=\"13\"><h3 class=\"name short\" data-reactid=\"14\" itemprop=\"name\" title=\"Potato Chip Rock via Mt. Woodson Trail\"><a data-reactid=\"15\" href=\"/trail/us/california/potato-chip-rock-via-mt-woodson-trail?ref=result-card\">Potato Chip Rock via Mt. Woodson Trail</a></h3><div class=\"difficulty-info\" data-reactid=\"16\"><span class=\"diff hard selected\" data-reactid=\"17\">HARD</span><span class=\"rating star_4-5 undefined\" data-reactid=\"18\" title=\"4.5\"></span><span class=\"review-count\" data-reactid=\"19\">(2470)</span></div><div class=\"clickable\" data-reactid=\"20\" title=\"Lake Poway Park\"><span class=\"location-label\" data-reactid=\"21\"><a data-reactid=\"22\" href=\"/parks/us/california/lake-poway-park?ref=result-card\">Lake Poway Park</a></span></div></div><div class=\"item-favorite clickable\" data-reactid=\"23\" title=\"Add to Favorites\"></div></div></div>"
      ]
     },
     "execution_count": 69,
     "metadata": {},
     "output_type": "execute_result"
    }
   ],
   "source": [
    "hikes[0]"
   ]
  },
  {
   "cell_type": "markdown",
   "metadata": {},
   "source": [
    "#### This just shows the names of the trails that were extracted from alltrails.com website"
   ]
  },
  {
   "cell_type": "code",
   "execution_count": 22,
   "metadata": {},
   "outputs": [
    {
     "data": {
      "text/plain": [
       "['Potato Chip Rock via Mt. Woodson Trail',\n",
       " 'Vernal and Nevada Falls via the Mist Trail',\n",
       " 'Eaton Canyon Trail',\n",
       " 'Bridge to Nowhere via East Fork Trail',\n",
       " 'Alamere Falls via Coast Trail from Palomarin Trailhead']"
      ]
     },
     "execution_count": 22,
     "metadata": {},
     "output_type": "execute_result"
    }
   ],
   "source": [
    "trail_name[0:5]"
   ]
  },
  {
   "cell_type": "markdown",
   "metadata": {},
   "source": [
    "## Summary\n",
    "\n",
    "- All the trails have been extracted from the website with the url extension to go to each trails page and saved into a pandas dataframe called ***trails_df.csv*** I moved this file into the /data folder to prevent it to be overwritten\n",
    "\n",
    "- The next Jupyter Notebook will be extracting the reviewers and their ratings \n",
    "\n",
    "- Link the notebook 2: <br> https://git.generalassemb.ly/boxndragon04/California_Hiking_Recommendation_System/blob/master2/notebooks/02_Scrapping_Reviews.ipynb\n"
   ]
  }
 ],
 "metadata": {
  "kernelspec": {
   "display_name": "Python 3",
   "language": "python",
   "name": "python3"
  },
  "language_info": {
   "codemirror_mode": {
    "name": "ipython",
    "version": 3
   },
   "file_extension": ".py",
   "mimetype": "text/x-python",
   "name": "python",
   "nbconvert_exporter": "python",
   "pygments_lexer": "ipython3",
   "version": "3.6.6"
  }
 },
 "nbformat": 4,
 "nbformat_minor": 2
}
