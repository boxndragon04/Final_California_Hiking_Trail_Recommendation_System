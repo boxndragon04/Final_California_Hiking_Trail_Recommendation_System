{
 "cells": [
  {
   "cell_type": "markdown",
   "metadata": {},
   "source": [
    "## Extracting Each Trail's info and the Reviewers and their Ratings\n",
    "\n",
    "This Jupyter Notebook will deep dive into each trail in California and extract out the following:\n",
    "- Name of the trail\n",
    "- Description of each trail\n",
    "- Distance of the trail\n",
    "- Elevation of the trail\n",
    "- Type of route of the trail\n",
    "- Difficulty of the trail\n",
    "- Average rating of the trail\n",
    "- Location of the trail\n",
    "- Number of reviews\n",
    "- Reviewers and their rating"
   ]
  },
  {
   "cell_type": "markdown",
   "metadata": {},
   "source": [
    "## Libraries"
   ]
  },
  {
   "cell_type": "code",
   "execution_count": 1,
   "metadata": {},
   "outputs": [],
   "source": [
    "import numpy as np\n",
    "from selenium import webdriver\n",
    "from selenium.webdriver.support.ui import WebDriverWait\n",
    "from selenium.webdriver.common.by import By\n",
    "from selenium.webdriver.support import expected_conditions as EC\n",
    "from bs4 import BeautifulSoup\n",
    "import time\n",
    "import pandas as pd"
   ]
  },
  {
   "cell_type": "markdown",
   "metadata": {},
   "source": [
    "#### Lets read in the dataframe that has all the trails web extension from 01_Selenium_Get_All_CA_Hiking_Trails"
   ]
  },
  {
   "cell_type": "code",
   "execution_count": 2,
   "metadata": {},
   "outputs": [],
   "source": [
    "df = pd.read_csv('../data/trails_df.csv')"
   ]
  },
  {
   "cell_type": "markdown",
   "metadata": {},
   "source": [
    "#### Lets check to make sure this is the right data"
   ]
  },
  {
   "cell_type": "code",
   "execution_count": 3,
   "metadata": {},
   "outputs": [
    {
     "data": {
      "text/html": [
       "<div>\n",
       "<style scoped>\n",
       "    .dataframe tbody tr th:only-of-type {\n",
       "        vertical-align: middle;\n",
       "    }\n",
       "\n",
       "    .dataframe tbody tr th {\n",
       "        vertical-align: top;\n",
       "    }\n",
       "\n",
       "    .dataframe thead th {\n",
       "        text-align: right;\n",
       "    }\n",
       "</style>\n",
       "<table border=\"1\" class=\"dataframe\">\n",
       "  <thead>\n",
       "    <tr style=\"text-align: right;\">\n",
       "      <th></th>\n",
       "      <th>trails_web_extension</th>\n",
       "    </tr>\n",
       "  </thead>\n",
       "  <tbody>\n",
       "    <tr>\n",
       "      <th>0</th>\n",
       "      <td>/trail/us/california/potato-chip-rock-via-mt-w...</td>\n",
       "    </tr>\n",
       "    <tr>\n",
       "      <th>1</th>\n",
       "      <td>/trail/us/california/vernal-and-nevada-falls-v...</td>\n",
       "    </tr>\n",
       "    <tr>\n",
       "      <th>2</th>\n",
       "      <td>/trail/us/california/eaton-canyon-trail?ref=re...</td>\n",
       "    </tr>\n",
       "  </tbody>\n",
       "</table>\n",
       "</div>"
      ],
      "text/plain": [
       "                                trails_web_extension\n",
       "0  /trail/us/california/potato-chip-rock-via-mt-w...\n",
       "1  /trail/us/california/vernal-and-nevada-falls-v...\n",
       "2  /trail/us/california/eaton-canyon-trail?ref=re..."
      ]
     },
     "execution_count": 3,
     "metadata": {},
     "output_type": "execute_result"
    }
   ],
   "source": [
    "df.head(3)"
   ]
  },
  {
   "cell_type": "markdown",
   "metadata": {},
   "source": [
    "#### Lets add Columns to this df"
   ]
  },
  {
   "cell_type": "code",
   "execution_count": 4,
   "metadata": {},
   "outputs": [],
   "source": [
    "df['name'] = ''\n",
    "df['description1'] = ''\n",
    "df['description2'] = ''\n",
    "df['distance'] = ''\n",
    "df['elevation'] = ''\n",
    "df['route'] = ''\n",
    "df['difficulty'] = ''\n",
    "df['rating'] = ''\n",
    "df['location'] = ''\n",
    "df['numreviews'] = ''\n",
    "df['reviewers_rating'] = ''"
   ]
  },
  {
   "cell_type": "markdown",
   "metadata": {},
   "source": [
    "#### Lets Check the Dataframe with the added columns"
   ]
  },
  {
   "cell_type": "code",
   "execution_count": 5,
   "metadata": {
    "scrolled": true
   },
   "outputs": [
    {
     "data": {
      "text/html": [
       "<div>\n",
       "<style scoped>\n",
       "    .dataframe tbody tr th:only-of-type {\n",
       "        vertical-align: middle;\n",
       "    }\n",
       "\n",
       "    .dataframe tbody tr th {\n",
       "        vertical-align: top;\n",
       "    }\n",
       "\n",
       "    .dataframe thead th {\n",
       "        text-align: right;\n",
       "    }\n",
       "</style>\n",
       "<table border=\"1\" class=\"dataframe\">\n",
       "  <thead>\n",
       "    <tr style=\"text-align: right;\">\n",
       "      <th></th>\n",
       "      <th>trails_web_extension</th>\n",
       "      <th>name</th>\n",
       "      <th>description1</th>\n",
       "      <th>description2</th>\n",
       "      <th>distance</th>\n",
       "      <th>elevation</th>\n",
       "      <th>route</th>\n",
       "      <th>difficulty</th>\n",
       "      <th>rating</th>\n",
       "      <th>location</th>\n",
       "      <th>numreviews</th>\n",
       "      <th>reviewers_rating</th>\n",
       "    </tr>\n",
       "  </thead>\n",
       "  <tbody>\n",
       "    <tr>\n",
       "      <th>0</th>\n",
       "      <td>/trail/us/california/potato-chip-rock-via-mt-w...</td>\n",
       "      <td></td>\n",
       "      <td></td>\n",
       "      <td></td>\n",
       "      <td></td>\n",
       "      <td></td>\n",
       "      <td></td>\n",
       "      <td></td>\n",
       "      <td></td>\n",
       "      <td></td>\n",
       "      <td></td>\n",
       "      <td></td>\n",
       "    </tr>\n",
       "    <tr>\n",
       "      <th>1</th>\n",
       "      <td>/trail/us/california/vernal-and-nevada-falls-v...</td>\n",
       "      <td></td>\n",
       "      <td></td>\n",
       "      <td></td>\n",
       "      <td></td>\n",
       "      <td></td>\n",
       "      <td></td>\n",
       "      <td></td>\n",
       "      <td></td>\n",
       "      <td></td>\n",
       "      <td></td>\n",
       "      <td></td>\n",
       "    </tr>\n",
       "  </tbody>\n",
       "</table>\n",
       "</div>"
      ],
      "text/plain": [
       "                                trails_web_extension name description1  \\\n",
       "0  /trail/us/california/potato-chip-rock-via-mt-w...                     \n",
       "1  /trail/us/california/vernal-and-nevada-falls-v...                     \n",
       "\n",
       "  description2 distance elevation route difficulty rating location numreviews  \\\n",
       "0                                                                               \n",
       "1                                                                               \n",
       "\n",
       "  reviewers_rating  \n",
       "0                   \n",
       "1                   "
      ]
     },
     "execution_count": 5,
     "metadata": {},
     "output_type": "execute_result"
    }
   ],
   "source": [
    "df.head(2)"
   ]
  },
  {
   "cell_type": "code",
   "execution_count": 6,
   "metadata": {},
   "outputs": [
    {
     "data": {
      "text/plain": [
       "(7728, 12)"
      ]
     },
     "execution_count": 6,
     "metadata": {},
     "output_type": "execute_result"
    }
   ],
   "source": [
    "df.shape"
   ]
  },
  {
   "cell_type": "markdown",
   "metadata": {},
   "source": [
    "As you can see from above we have a df with 7728 rows for each trail that we will need to iterate through to scrap the content for each column. \n",
    "\n",
    "This is the most difficult and time consuming part in gathering the data for the user/reviewer of the hike and their ratings.\n",
    "\n",
    "This actually took over a week to do for me."
   ]
  },
  {
   "cell_type": "markdown",
   "metadata": {},
   "source": [
    "# Functions"
   ]
  },
  {
   "cell_type": "markdown",
   "metadata": {},
   "source": [
    "This function **scrap_CA_trail** loads in the url of the hiking trail in and presses the load more button until it no longer is available to create the soup and returns the soup to a saved variable."
   ]
  },
  {
   "cell_type": "code",
   "execution_count": 7,
   "metadata": {},
   "outputs": [],
   "source": [
    "def scrap_CA_trail(browser, hike_url):\n",
    "    browser.get(hike_url)\n",
    "    while True:\n",
    "        try:\n",
    "            load_more_ratings = WebDriverWait(browser, 2).until(\n",
    "                EC.visibility_of_element_located((\n",
    "                By.XPATH,\"//div[@id='load_more'] [@class='feed-item load-more'][//a]\")))\n",
    "            load_more_ratings.click()\n",
    "            time.sleep(2)\n",
    "        except:\n",
    "            break\n",
    "    soup = BeautifulSoup(browser.page_source, \"lxml\")\n",
    "    return soup"
   ]
  },
  {
   "cell_type": "markdown",
   "metadata": {},
   "source": [
    "This function **trails_to_scrap** takes in 2 conditions. A start index for the trail to start scrapping at and an end index to stop scrapping. It opens the chrome webdrive, and loads in one hiking page at a time from the list of hiking trails. It then proceeds to find the load more button and press the button until the button no longer exist. Once that condition is meet, the while loop breaks, and it extracts the soup (html) and the specific features from the trail. It will also save the dataframe at every 25 trails it scrap so you have the data saved as backup. "
   ]
  },
  {
   "cell_type": "code",
   "execution_count": 8,
   "metadata": {
    "scrolled": false
   },
   "outputs": [],
   "source": [
    "def trails_to_scrap(start, end=''):\n",
    "    browser = webdriver.Chrome('../chromedriver')\n",
    "    for i, trail in enumerate(df.trails_web_extension[start:end]): \n",
    "        i=i+start\n",
    "\n",
    "        california_hiking_trail_url = 'http://www.alltrails.com' + trail\n",
    "\n",
    "        soup2 = scrap_CA_trail(browser, california_hiking_trail_url)\n",
    "\n",
    "        df.name[i] = soup2.find('h1').text\n",
    "        df.description1[i] = soup2.find('p').text\n",
    "        df.description2[i] = soup2.findAll('p')[1].text\n",
    "        df.distance[i] = soup2.find('section', id='trail-stats').find('div').find_all(\n",
    "        'span')[0].text.replace('\\nDISTANCE\\n','').replace(' miles\\n', '')\n",
    "        df.elevation[i] = soup2.find('section', id='trail-stats').find('div').find_all(\n",
    "        'span')[1].text.replace('\\nELEVATION GAIN\\n','').replace(' feet\\n', '')\n",
    "        df.route[i] = soup2.find('section', id='trail-stats').find('div').find_all(\n",
    "        'span')[2].text.replace('\\nROUTE TYPE\\n','').replace('\\n', '')\n",
    "        df.difficulty[i] = soup2.find('div', id='difficulty-and-rating').find('span').text\n",
    "        df.rating[i] = soup2.find('div', id='difficulty-and-rating').find('meta')['content']\n",
    "        df.location[i] = soup2.find('div', id='title-and-menu-box').findAll('span')[5].text\n",
    "        df.numreviews[i] = soup2.find('div', id='difficulty-and-rating').find_all('span')[4].text\n",
    "\n",
    "        reviewer_names_and_rating = []\n",
    "        for reviewer in range(0,len(soup2.findAll('span', itemprop='author'))):\n",
    "            reviewer_name = soup2.findAll('span', itemprop='author')[reviewer].text\n",
    "            reviewer_rating = soup2.findAll(\"div\", {\"class\": \"width-for-stars-holder\"})[reviewer].find('meta')['content']\n",
    "            reviewer_names_and_rating.append({reviewer_name: reviewer_rating})\n",
    "        df.reviewers_rating[i] = reviewer_names_and_rating\n",
    "\n",
    "        if i % 25 == 0:\n",
    "            df.to_csv(f'./california_hikes_{i}_df.csv', index=False)\n"
   ]
  },
  {
   "cell_type": "markdown",
   "metadata": {},
   "source": [
    "## Main Code"
   ]
  },
  {
   "cell_type": "markdown",
   "metadata": {},
   "source": [
    "#### This is a demo of the code for one trail. I displayed the dataframe at location 7000 to show you how the information was extracted"
   ]
  },
  {
   "cell_type": "code",
   "execution_count": 9,
   "metadata": {
    "scrolled": true
   },
   "outputs": [
    {
     "data": {
      "text/html": [
       "<div>\n",
       "<style scoped>\n",
       "    .dataframe tbody tr th:only-of-type {\n",
       "        vertical-align: middle;\n",
       "    }\n",
       "\n",
       "    .dataframe tbody tr th {\n",
       "        vertical-align: top;\n",
       "    }\n",
       "\n",
       "    .dataframe thead th {\n",
       "        text-align: right;\n",
       "    }\n",
       "</style>\n",
       "<table border=\"1\" class=\"dataframe\">\n",
       "  <thead>\n",
       "    <tr style=\"text-align: right;\">\n",
       "      <th></th>\n",
       "      <th>trails_web_extension</th>\n",
       "      <th>name</th>\n",
       "      <th>description1</th>\n",
       "      <th>description2</th>\n",
       "      <th>distance</th>\n",
       "      <th>elevation</th>\n",
       "      <th>route</th>\n",
       "      <th>difficulty</th>\n",
       "      <th>rating</th>\n",
       "      <th>location</th>\n",
       "      <th>numreviews</th>\n",
       "      <th>reviewers_rating</th>\n",
       "    </tr>\n",
       "  </thead>\n",
       "  <tbody>\n",
       "    <tr>\n",
       "      <th>6999</th>\n",
       "      <td>/trail/us/california/santiago-peak?ref=result-...</td>\n",
       "      <td></td>\n",
       "      <td></td>\n",
       "      <td></td>\n",
       "      <td></td>\n",
       "      <td></td>\n",
       "      <td></td>\n",
       "      <td></td>\n",
       "      <td></td>\n",
       "      <td></td>\n",
       "      <td></td>\n",
       "      <td></td>\n",
       "    </tr>\n",
       "    <tr>\n",
       "      <th>7000</th>\n",
       "      <td>/trail/us/california/falls-trail-and-middle-tr...</td>\n",
       "      <td>Falls Trail and Middle Trail</td>\n",
       "      <td>Falls Trail and Middle Trail is a 8.7 mile mod...</td>\n",
       "      <td>Since I live nearby, I hike this trail often. ...</td>\n",
       "      <td>8.7</td>\n",
       "      <td>1,489</td>\n",
       "      <td>Loop</td>\n",
       "      <td>MODERATE</td>\n",
       "      <td>4.0</td>\n",
       "      <td>Mount Diablo State Park</td>\n",
       "      <td>3</td>\n",
       "      <td>[{'Oscar d.': '4'}, {'Kay Jung': '5'}, {'Thoma...</td>\n",
       "    </tr>\n",
       "    <tr>\n",
       "      <th>7001</th>\n",
       "      <td>/trail/us/california/devils-slide-trail-willow...</td>\n",
       "      <td></td>\n",
       "      <td></td>\n",
       "      <td></td>\n",
       "      <td></td>\n",
       "      <td></td>\n",
       "      <td></td>\n",
       "      <td></td>\n",
       "      <td></td>\n",
       "      <td></td>\n",
       "      <td></td>\n",
       "      <td></td>\n",
       "    </tr>\n",
       "  </tbody>\n",
       "</table>\n",
       "</div>"
      ],
      "text/plain": [
       "                                   trails_web_extension  \\\n",
       "6999  /trail/us/california/santiago-peak?ref=result-...   \n",
       "7000  /trail/us/california/falls-trail-and-middle-tr...   \n",
       "7001  /trail/us/california/devils-slide-trail-willow...   \n",
       "\n",
       "                              name  \\\n",
       "6999                                 \n",
       "7000  Falls Trail and Middle Trail   \n",
       "7001                                 \n",
       "\n",
       "                                           description1  \\\n",
       "6999                                                      \n",
       "7000  Falls Trail and Middle Trail is a 8.7 mile mod...   \n",
       "7001                                                      \n",
       "\n",
       "                                           description2 distance elevation  \\\n",
       "6999                                                                         \n",
       "7000  Since I live nearby, I hike this trail often. ...      8.7     1,489   \n",
       "7001                                                                         \n",
       "\n",
       "     route difficulty rating                 location numreviews  \\\n",
       "6999                                                               \n",
       "7000  Loop   MODERATE    4.0  Mount Diablo State Park         3    \n",
       "7001                                                               \n",
       "\n",
       "                                       reviewers_rating  \n",
       "6999                                                     \n",
       "7000  [{'Oscar d.': '4'}, {'Kay Jung': '5'}, {'Thoma...  \n",
       "7001                                                     "
      ]
     },
     "execution_count": 9,
     "metadata": {},
     "output_type": "execute_result"
    }
   ],
   "source": [
    "trails_to_scrap(7000, 7001)\n",
    "df.iloc[6999:7002]"
   ]
  },
  {
   "cell_type": "markdown",
   "metadata": {},
   "source": [
    "## **NOTE:**\n",
    "This code takes a long time to run. It took me 2 weeks to run. I divided up the trails to be scrapped in this method because the lower index (0) trails have the highest reviews and the higher index (7000+) trails have the lowest reviews. Because the code can't run continuously unless you have a server to run it. This is the best method for scrapping. "
   ]
  },
  {
   "cell_type": "code",
   "execution_count": 10,
   "metadata": {},
   "outputs": [],
   "source": [
    "trails_to_scrap(0, 5)\n",
    "trails_to_scrap(5, 10)\n",
    "trails_to_scrap(10, 20)\n",
    "trails_to_scrap(20, 40)\n",
    "trails_to_scrap(40, 80)\n",
    "trails_to_scrap(80, 160)\n",
    "trails_to_scrap(160, 320)\n",
    "trails_to_scrap(320, 1000)\n",
    "trails_to_scrap(1000, 2000)\n",
    "trails_to_scrap(2000, 4000)\n",
    "trails_to_scrap(7727, None)"
   ]
  },
  {
   "cell_type": "markdown",
   "metadata": {},
   "source": [
    "This is the code for saving the final dataframe"
   ]
  },
  {
   "cell_type": "code",
   "execution_count": 11,
   "metadata": {},
   "outputs": [],
   "source": [
    "df.to_csv('./california_hikes_df.csv', index=False)"
   ]
  },
  {
   "cell_type": "markdown",
   "metadata": {},
   "source": [
    "## Summary\n",
    "\n",
    "- This notebook collected all the features of the trails and the reviewers of each trail and their rating of the trail. \n",
    "\n",
    "- The data is saved to a dataframe csv file to be loaded in the next jupyter notebook for EDA.\n",
    "\n",
    "- The link to the next notebook is located here: <br>\n",
    "https://git.generalassemb.ly/boxndragon04/California_Hiking_Recommendation_System/blob/master2/notebooks/03_EDA_California_Hiking_Trails.ipynb"
   ]
  }
 ],
 "metadata": {
  "kernelspec": {
   "display_name": "Python 3",
   "language": "python",
   "name": "python3"
  },
  "language_info": {
   "codemirror_mode": {
    "name": "ipython",
    "version": 3
   },
   "file_extension": ".py",
   "mimetype": "text/x-python",
   "name": "python",
   "nbconvert_exporter": "python",
   "pygments_lexer": "ipython3",
   "version": "3.6.6"
  }
 },
 "nbformat": 4,
 "nbformat_minor": 2
}
