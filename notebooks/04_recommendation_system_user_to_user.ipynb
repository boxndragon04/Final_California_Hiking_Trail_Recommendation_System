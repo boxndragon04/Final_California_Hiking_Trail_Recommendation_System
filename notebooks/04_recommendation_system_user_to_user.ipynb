{
 "cells": [
  {
   "cell_type": "markdown",
   "metadata": {},
   "source": [
    "## Cosine Similarity and Recommendation System"
   ]
  },
  {
   "cell_type": "markdown",
   "metadata": {},
   "source": [
    "In this jupyter notebook, I will be using cosine similarity to develop a recommendation system based on users to users.\n",
    "\n",
    "This recommendation system will suggest hiking trails a user should do next based on user to user ratings. \n",
    "\n",
    "I'm trying to build an explicit colaborative based filtering system. Explicit means the ratings are given but I had to scrap the web to get them.\n",
    "\n",
    "**NOTE:** this code will use a lot of RAM and runs the computer pretty hot, it will take about 30-60 minutes to run on an 8GB quad-core computer. Run the code at risk of over working your computer.  \n",
    "\n",
    "Structure of this notebook:\n",
    "\n",
    "1. Read in csv\n",
    "2. Create list of all the reviewers (rows)\n",
    "3. Convert to dataframe to remove duplicates, and create a matrix with the columns of the hiking trails\n",
    "4. Fill in the matrix for the ratings with Zeroes\n",
    "5. Fill in the ratings in the matrix\n",
    "6. Reduce the dataframe by filter out reviewers with less than 3 reviews\n",
    "7. Create the Cosine Similarity Matrix\n",
    "8. Call functions to generate recommended hiking trails based on user to user similarities\n",
    "9. Evaluate the recommendation system"
   ]
  },
  {
   "cell_type": "markdown",
   "metadata": {},
   "source": [
    "## Libraries"
   ]
  },
  {
   "cell_type": "code",
   "execution_count": 1,
   "metadata": {},
   "outputs": [],
   "source": [
    "from sklearn.metrics.pairwise import cosine_similarity\n",
    "from sklearn.feature_extraction.text import CountVectorizer\n",
    "import pandas as pd\n",
    "import numpy as np\n",
    "import seaborn as sns"
   ]
  },
  {
   "cell_type": "markdown",
   "metadata": {},
   "source": [
    "### Lets Import the CSV Files\n",
    "\n",
    "trail_id_df is the dataframe of the trails name with the trail_id created from the 3rd jupyter notebook with the EDA"
   ]
  },
  {
   "cell_type": "code",
   "execution_count": 37,
   "metadata": {},
   "outputs": [],
   "source": [
    "trail_id = pd.read_csv('../data/trail_id_df.csv')"
   ]
  },
  {
   "cell_type": "markdown",
   "metadata": {},
   "source": [
    "### Lets read in the dataframe that has all the California Hiking trails with the features and reviewers and ratings from  02_Scrapping_Reviews.ipynb"
   ]
  },
  {
   "cell_type": "code",
   "execution_count": 2,
   "metadata": {},
   "outputs": [],
   "source": [
    "df = pd.read_csv('../data/clean_df.csv')"
   ]
  },
  {
   "cell_type": "code",
   "execution_count": 3,
   "metadata": {},
   "outputs": [
    {
     "data": {
      "text/plain": [
       "(7727, 13)"
      ]
     },
     "execution_count": 3,
     "metadata": {},
     "output_type": "execute_result"
    }
   ],
   "source": [
    "df.shape"
   ]
  },
  {
   "cell_type": "markdown",
   "metadata": {},
   "source": [
    "## Create a List of all the Reviewers from all the hikings trails in California"
   ]
  },
  {
   "cell_type": "code",
   "execution_count": 4,
   "metadata": {},
   "outputs": [],
   "source": [
    "# This list comprehensive will grab all the reviewrs in all the trails \n",
    "# and turn it into a list called all_users\n",
    "all_users = [eval(df.reviewers_rating[t])[i].keys() \n",
    "    for t in df.index \n",
    "    for i in range(len(eval(df.reviewers_rating[t])))]\n"
   ]
  },
  {
   "cell_type": "code",
   "execution_count": 14,
   "metadata": {},
   "outputs": [
    {
     "data": {
      "text/plain": [
       "321359"
      ]
     },
     "execution_count": 14,
     "metadata": {},
     "output_type": "execute_result"
    }
   ],
   "source": [
    "len(all_users)"
   ]
  },
  {
   "cell_type": "markdown",
   "metadata": {},
   "source": [
    "## Convert the List to a Dataframe, Remove Dups, Set Index and Fill it with Zeroes"
   ]
  },
  {
   "cell_type": "code",
   "execution_count": 15,
   "metadata": {},
   "outputs": [],
   "source": [
    "# Creates a Dataframe of all the hiking trail reviewers\n",
    "all_user_df = pd.DataFrame(all_users, columns={'users'})\n",
    "\n",
    "# Removes all the duplicates\n",
    "all_user_df.drop_duplicates(inplace=True)\n",
    "\n",
    "# Sets the index as the users\n",
    "all_user_df.set_index(['users'], inplace=True)\n",
    "\n",
    "# Creates the matrix of all zeros\n",
    "for i in df.T.columns:\n",
    "     all_user_df[i] = 0"
   ]
  },
  {
   "cell_type": "markdown",
   "metadata": {},
   "source": [
    "## Fill the Zeroes with the Ratings for Each Reviewer"
   ]
  },
  {
   "cell_type": "code",
   "execution_count": 23,
   "metadata": {},
   "outputs": [],
   "source": [
    "for col in all_user_df.columns:\n",
    "    for i, user in enumerate(eval(df.reviewers_rating[col])):\n",
    "        all_user_df.at[list(user)[0], col] = dict(\n",
    "            eval(df.reviewers_rating[col])[i].items())[list(user)[0]]"
   ]
  },
  {
   "cell_type": "code",
   "execution_count": 24,
   "metadata": {},
   "outputs": [
    {
     "data": {
      "text/plain": [
       "(117292, 7727)"
      ]
     },
     "execution_count": 24,
     "metadata": {},
     "output_type": "execute_result"
    }
   ],
   "source": [
    "all_user_df.shape"
   ]
  },
  {
   "cell_type": "code",
   "execution_count": 25,
   "metadata": {},
   "outputs": [
    {
     "data": {
      "text/html": [
       "<div>\n",
       "<style scoped>\n",
       "    .dataframe tbody tr th:only-of-type {\n",
       "        vertical-align: middle;\n",
       "    }\n",
       "\n",
       "    .dataframe tbody tr th {\n",
       "        vertical-align: top;\n",
       "    }\n",
       "\n",
       "    .dataframe thead th {\n",
       "        text-align: right;\n",
       "    }\n",
       "</style>\n",
       "<table border=\"1\" class=\"dataframe\">\n",
       "  <thead>\n",
       "    <tr style=\"text-align: right;\">\n",
       "      <th></th>\n",
       "      <th>0</th>\n",
       "      <th>1</th>\n",
       "      <th>2</th>\n",
       "      <th>3</th>\n",
       "      <th>4</th>\n",
       "      <th>5</th>\n",
       "      <th>6</th>\n",
       "      <th>7</th>\n",
       "      <th>8</th>\n",
       "      <th>9</th>\n",
       "      <th>...</th>\n",
       "      <th>7717</th>\n",
       "      <th>7718</th>\n",
       "      <th>7719</th>\n",
       "      <th>7720</th>\n",
       "      <th>7721</th>\n",
       "      <th>7722</th>\n",
       "      <th>7723</th>\n",
       "      <th>7724</th>\n",
       "      <th>7725</th>\n",
       "      <th>7726</th>\n",
       "    </tr>\n",
       "    <tr>\n",
       "      <th>users</th>\n",
       "      <th></th>\n",
       "      <th></th>\n",
       "      <th></th>\n",
       "      <th></th>\n",
       "      <th></th>\n",
       "      <th></th>\n",
       "      <th></th>\n",
       "      <th></th>\n",
       "      <th></th>\n",
       "      <th></th>\n",
       "      <th></th>\n",
       "      <th></th>\n",
       "      <th></th>\n",
       "      <th></th>\n",
       "      <th></th>\n",
       "      <th></th>\n",
       "      <th></th>\n",
       "      <th></th>\n",
       "      <th></th>\n",
       "      <th></th>\n",
       "      <th></th>\n",
       "    </tr>\n",
       "  </thead>\n",
       "  <tbody>\n",
       "    <tr>\n",
       "      <th>Daniel Cons de León</th>\n",
       "      <td>5</td>\n",
       "      <td>0</td>\n",
       "      <td>0</td>\n",
       "      <td>0</td>\n",
       "      <td>0</td>\n",
       "      <td>0</td>\n",
       "      <td>0</td>\n",
       "      <td>0</td>\n",
       "      <td>0</td>\n",
       "      <td>0</td>\n",
       "      <td>...</td>\n",
       "      <td>0</td>\n",
       "      <td>0</td>\n",
       "      <td>0</td>\n",
       "      <td>0</td>\n",
       "      <td>0</td>\n",
       "      <td>0</td>\n",
       "      <td>0</td>\n",
       "      <td>0</td>\n",
       "      <td>0</td>\n",
       "      <td>0</td>\n",
       "    </tr>\n",
       "    <tr>\n",
       "      <th>David  Loop</th>\n",
       "      <td>5</td>\n",
       "      <td>0</td>\n",
       "      <td>0</td>\n",
       "      <td>0</td>\n",
       "      <td>0</td>\n",
       "      <td>0</td>\n",
       "      <td>0</td>\n",
       "      <td>0</td>\n",
       "      <td>0</td>\n",
       "      <td>0</td>\n",
       "      <td>...</td>\n",
       "      <td>0</td>\n",
       "      <td>0</td>\n",
       "      <td>0</td>\n",
       "      <td>0</td>\n",
       "      <td>0</td>\n",
       "      <td>0</td>\n",
       "      <td>0</td>\n",
       "      <td>0</td>\n",
       "      <td>0</td>\n",
       "      <td>0</td>\n",
       "    </tr>\n",
       "    <tr>\n",
       "      <th>Philip Henke</th>\n",
       "      <td>5</td>\n",
       "      <td>0</td>\n",
       "      <td>0</td>\n",
       "      <td>0</td>\n",
       "      <td>0</td>\n",
       "      <td>0</td>\n",
       "      <td>0</td>\n",
       "      <td>0</td>\n",
       "      <td>0</td>\n",
       "      <td>0</td>\n",
       "      <td>...</td>\n",
       "      <td>0</td>\n",
       "      <td>0</td>\n",
       "      <td>0</td>\n",
       "      <td>0</td>\n",
       "      <td>0</td>\n",
       "      <td>0</td>\n",
       "      <td>0</td>\n",
       "      <td>0</td>\n",
       "      <td>0</td>\n",
       "      <td>0</td>\n",
       "    </tr>\n",
       "    <tr>\n",
       "      <th>Stephanie Silva</th>\n",
       "      <td>4</td>\n",
       "      <td>0</td>\n",
       "      <td>0</td>\n",
       "      <td>0</td>\n",
       "      <td>0</td>\n",
       "      <td>0</td>\n",
       "      <td>0</td>\n",
       "      <td>0</td>\n",
       "      <td>0</td>\n",
       "      <td>0</td>\n",
       "      <td>...</td>\n",
       "      <td>0</td>\n",
       "      <td>0</td>\n",
       "      <td>0</td>\n",
       "      <td>0</td>\n",
       "      <td>0</td>\n",
       "      <td>0</td>\n",
       "      <td>0</td>\n",
       "      <td>0</td>\n",
       "      <td>0</td>\n",
       "      <td>0</td>\n",
       "    </tr>\n",
       "    <tr>\n",
       "      <th>Janelle Tompsett</th>\n",
       "      <td>4</td>\n",
       "      <td>0</td>\n",
       "      <td>0</td>\n",
       "      <td>0</td>\n",
       "      <td>0</td>\n",
       "      <td>0</td>\n",
       "      <td>0</td>\n",
       "      <td>0</td>\n",
       "      <td>0</td>\n",
       "      <td>0</td>\n",
       "      <td>...</td>\n",
       "      <td>0</td>\n",
       "      <td>0</td>\n",
       "      <td>0</td>\n",
       "      <td>0</td>\n",
       "      <td>0</td>\n",
       "      <td>0</td>\n",
       "      <td>0</td>\n",
       "      <td>0</td>\n",
       "      <td>0</td>\n",
       "      <td>0</td>\n",
       "    </tr>\n",
       "  </tbody>\n",
       "</table>\n",
       "<p>5 rows × 7727 columns</p>\n",
       "</div>"
      ],
      "text/plain": [
       "                     0     1     2     3     4     5     6     7     8     \\\n",
       "users                                                                       \n",
       "Daniel Cons de León     5     0     0     0     0     0     0     0     0   \n",
       "David  Loop             5     0     0     0     0     0     0     0     0   \n",
       "Philip Henke            5     0     0     0     0     0     0     0     0   \n",
       "Stephanie Silva         4     0     0     0     0     0     0     0     0   \n",
       "Janelle Tompsett        4     0     0     0     0     0     0     0     0   \n",
       "\n",
       "                     9     ...   7717  7718  7719  7720  7721  7722  7723  \\\n",
       "users                      ...                                              \n",
       "Daniel Cons de León     0  ...      0     0     0     0     0     0     0   \n",
       "David  Loop             0  ...      0     0     0     0     0     0     0   \n",
       "Philip Henke            0  ...      0     0     0     0     0     0     0   \n",
       "Stephanie Silva         0  ...      0     0     0     0     0     0     0   \n",
       "Janelle Tompsett        0  ...      0     0     0     0     0     0     0   \n",
       "\n",
       "                     7724  7725  7726  \n",
       "users                                  \n",
       "Daniel Cons de León     0     0     0  \n",
       "David  Loop             0     0     0  \n",
       "Philip Henke            0     0     0  \n",
       "Stephanie Silva         0     0     0  \n",
       "Janelle Tompsett        0     0     0  \n",
       "\n",
       "[5 rows x 7727 columns]"
      ]
     },
     "execution_count": 25,
     "metadata": {},
     "output_type": "execute_result"
    }
   ],
   "source": [
    "all_user_df.head()"
   ]
  },
  {
   "cell_type": "markdown",
   "metadata": {},
   "source": [
    "## Reduce the DataFrame for Cosine Similarities"
   ]
  },
  {
   "cell_type": "markdown",
   "metadata": {},
   "source": [
    "This is the formula for Cosine Similarity. I got this formula from the lecture notes at General Assembly.\n",
    "\n",
    "## $$\n",
    "cos(\\theta) = \\frac{A \\cdot B}{\\left\\| A\\right\\| \\left\\| B\\right\\| } = \\frac{A \\cdot B}{\\sqrt{\\sum{A_i^2}} \\cdot \\sqrt{\\sum{B_i^2}}}\n",
    "$$\n",
    "\n",
    "Cosine similarity is measuring the angle between one vector and another vector. These vectors are the users and their rating of a trail which has a scaler value with magnitude and direction. If two users like the same trails and give similar ratings then they will have similar direction and magnitudes which results in an acute angle. If they have different ratings than the direction and magnitudes are in different directions which results in obtuse angles. Cos 0 degree is equal to 1. while cosine 180 degrees is -1. Thus a value close 1 is consider similar, and a value close to -1 is dissimilar. \n",
    "\n",
    "The formula states, cosine theta equals the dot product of A and B over the Euclidean norm of the vector A and vector B. "
   ]
  },
  {
   "cell_type": "code",
   "execution_count": 27,
   "metadata": {},
   "outputs": [],
   "source": [
    "# This code overrights the df to a new df that returns all loc (locations) that has a sum of values (ratings) \n",
    "# that are greater than 3. Meaning, return all users with reviews greater than 3\n",
    "all_user_df = all_user_df.loc[(all_user_df!=0).sum(1) > 3]"
   ]
  },
  {
   "cell_type": "code",
   "execution_count": 28,
   "metadata": {},
   "outputs": [
    {
     "data": {
      "text/plain": [
       "(20311, 7727)"
      ]
     },
     "execution_count": 28,
     "metadata": {},
     "output_type": "execute_result"
    }
   ],
   "source": [
    "# As you can see the new shape is now 20,3111 rows vs before it was 117,292 rows.\n",
    "all_user_df.shape"
   ]
  },
  {
   "cell_type": "code",
   "execution_count": 29,
   "metadata": {},
   "outputs": [
    {
     "name": "stdout",
     "output_type": "stream",
     "text": [
      " Percentage of Data remain after filtering the users with more than 3 reviews: 17.31661153360843\n"
     ]
    }
   ],
   "source": [
    "print(f' Percentage of Data remain after filtering the users with more than 3 reviews: {20311/117292*100}')"
   ]
  },
  {
   "cell_type": "markdown",
   "metadata": {},
   "source": [
    "## Lets Create the Cosine Similarity Matrix for Users to Users"
   ]
  },
  {
   "cell_type": "code",
   "execution_count": 32,
   "metadata": {},
   "outputs": [],
   "source": [
    "cosine_mat = cosine_similarity(all_user_df, all_user_df)"
   ]
  },
  {
   "cell_type": "code",
   "execution_count": 33,
   "metadata": {},
   "outputs": [
    {
     "data": {
      "text/plain": [
       "(20311, 20311)"
      ]
     },
     "execution_count": 33,
     "metadata": {},
     "output_type": "execute_result"
    }
   ],
   "source": [
    "cosine_mat.shape"
   ]
  },
  {
   "cell_type": "markdown",
   "metadata": {},
   "source": [
    "Drop the extra column in trail_id"
   ]
  },
  {
   "cell_type": "code",
   "execution_count": 38,
   "metadata": {},
   "outputs": [],
   "source": [
    "trail_id.drop(columns='Unnamed: 0', axis=1, inplace=True)"
   ]
  },
  {
   "cell_type": "markdown",
   "metadata": {},
   "source": [
    "## Functions"
   ]
  },
  {
   "cell_type": "markdown",
   "metadata": {},
   "source": [
    "This function **return_users_name_with_trails_and_ratings** returns the main user's name with all the trails the main user has reviewed with the ratings and requires the parameter user id number"
   ]
  },
  {
   "cell_type": "code",
   "execution_count": 57,
   "metadata": {},
   "outputs": [],
   "source": [
    "def return_users_name_with_trails_and_ratings(uid):\n",
    "    print(all_user_df.iloc[uid].name)\n",
    "    for k in all_user_df.iloc[uid][(all_user_df.iloc[uid] > 0)].keys():\n",
    "        print(trail_id[trail_id.index == int(k)].name.item(), all_user_df.iloc[uid][k])"
   ]
  },
  {
   "cell_type": "markdown",
   "metadata": {},
   "source": [
    "This function **top_similar_users_and_ratings** requires the main user_id number and the number of users you want to see that are most similar. It will then return those similar users with their reviewed trails and ratings"
   ]
  },
  {
   "cell_type": "code",
   "execution_count": 58,
   "metadata": {},
   "outputs": [],
   "source": [
    "def top_similar_users_and_ratings(user_id=0, top=10):\n",
    "    '''\n",
    "        user_id default is 0 for the user index at 0\n",
    "        top default is 10 for top 10 users most similar\n",
    "    '''\n",
    "    for user in np.argsort(cosine_mat[user_id])[-2:(-top-2):-1]:\n",
    "        return_users_name_with_trails_and_ratings(user)\n",
    "        print('\\n')"
   ]
  },
  {
   "cell_type": "markdown",
   "metadata": {},
   "source": [
    "This function **generate_recommended_trails** requires the main user_id number and the number of users you want to see that are most similar. It will then return those similar users with their reviewed trails and ratings"
   ]
  },
  {
   "cell_type": "code",
   "execution_count": 63,
   "metadata": {},
   "outputs": [],
   "source": [
    "def generate_recommended_trails(user_id=0, top=10):\n",
    "    # List of trails from main user\n",
    "    main_user_trails = [trail_id[trail_id.index == int(k)].name.item() \n",
    "                        for k in all_user_df.iloc[user_id][(all_user_df.iloc[user_id] > 0)].keys()]\n",
    "\n",
    "    # List of trails from main user\n",
    "    empty_list = []\n",
    "    for user in np.argsort(cosine_mat[user_id])[-2:(-top-2):-1]:\n",
    "        for k in all_user_df.iloc[user][(all_user_df.iloc[user] > 0)].keys():\n",
    "            empty_list.append(trail_id[trail_id.index == int(k)].name.item())\n",
    "\n",
    "    recommended_trail = list(set(empty_list))\n",
    "\n",
    "    # Create dataframe of only the trails not in the main user list or the recommended trails\n",
    "    recommended_df = pd.DataFrame(list(set(recommended_trail).difference(main_user_trails)), \n",
    "                                  columns={'Recommended_Trails'})\n",
    "\n",
    "    # Create a column for the Total Ratings\n",
    "    recommended_df['Total_Ratings'] = 0\n",
    "\n",
    "    # Setting the index to Recommned Trails\n",
    "    recommended_df.set_index('Recommended_Trails', inplace=True)\n",
    "\n",
    "    # This loop sums the ratings to the recommended_trails\n",
    "    for user in np.argsort(cosine_mat[user_id])[-2:(-top-2):-1]:\n",
    "        for k in all_user_df.iloc[user][(all_user_df.iloc[user] > 0)].keys():\n",
    "            try: \n",
    "                recommended_df.loc[trail_id[trail_id.index == \n",
    "                        int(k)].name.item()].Total_Ratings+=int(all_user_df.iloc[user][k])\n",
    "            except:\n",
    "                pass\n",
    "    return_users_name_with_trails_and_ratings(user_id)    \n",
    "    return recommended_df.sort_values(by='Total_Ratings', ascending=False).head(10)"
   ]
  },
  {
   "cell_type": "markdown",
   "metadata": {},
   "source": [
    "## Evaluating the Recommendation System"
   ]
  },
  {
   "cell_type": "markdown",
   "metadata": {},
   "source": [
    "#### Lets Take a look at one random user. This is user #5 Leonardo Dumo. \n",
    "From hiking experience, I know that all these hikes are in San Diego.\n",
    "\n",
    "The recommended list shows 10 trails. The majority of the trails on the list is also in San Diego."
   ]
  },
  {
   "cell_type": "code",
   "execution_count": 75,
   "metadata": {
    "scrolled": false
   },
   "outputs": [
    {
     "name": "stdout",
     "output_type": "stream",
     "text": [
      "Leonardo Dumo\n",
      "Potato Chip Rock via Mt. Woodson Trail 5\n",
      "Iron Mountain Trail 4\n",
      "Mission Peak Loop from Stanford Avenue Staging Area 5\n",
      "Torrey Pines - Red Butte, Yucca Point, and Razor Point 4\n",
      "Lake Miramar Trail 4\n",
      "San Diego Coastline: Chula Vista to Coronado 3\n"
     ]
    },
    {
     "data": {
      "text/html": [
       "<div>\n",
       "<style scoped>\n",
       "    .dataframe tbody tr th:only-of-type {\n",
       "        vertical-align: middle;\n",
       "    }\n",
       "\n",
       "    .dataframe tbody tr th {\n",
       "        vertical-align: top;\n",
       "    }\n",
       "\n",
       "    .dataframe thead th {\n",
       "        text-align: right;\n",
       "    }\n",
       "</style>\n",
       "<table border=\"1\" class=\"dataframe\">\n",
       "  <thead>\n",
       "    <tr style=\"text-align: right;\">\n",
       "      <th></th>\n",
       "      <th>Total_Ratings</th>\n",
       "    </tr>\n",
       "    <tr>\n",
       "      <th>Recommended_Trails</th>\n",
       "      <th></th>\n",
       "    </tr>\n",
       "  </thead>\n",
       "  <tbody>\n",
       "    <tr>\n",
       "      <th>Cowles Mountain Trail</th>\n",
       "      <td>188</td>\n",
       "    </tr>\n",
       "    <tr>\n",
       "      <th>Fortuna Mountain Trail</th>\n",
       "      <td>154</td>\n",
       "    </tr>\n",
       "    <tr>\n",
       "      <th>Kwaay Paay Peak Trail</th>\n",
       "      <td>134</td>\n",
       "    </tr>\n",
       "    <tr>\n",
       "      <th>Lake Hodges Overlook Trail</th>\n",
       "      <td>118</td>\n",
       "    </tr>\n",
       "    <tr>\n",
       "      <th>Three Sisters Waterfalls Trail</th>\n",
       "      <td>115</td>\n",
       "    </tr>\n",
       "    <tr>\n",
       "      <th>El Cajon Mountain Trail</th>\n",
       "      <td>114</td>\n",
       "    </tr>\n",
       "    <tr>\n",
       "      <th>Torrey Pines Beach Trail Loop</th>\n",
       "      <td>98</td>\n",
       "    </tr>\n",
       "    <tr>\n",
       "      <th>Los Penasquitos Canyon Trail</th>\n",
       "      <td>76</td>\n",
       "    </tr>\n",
       "    <tr>\n",
       "      <th>Cowles Mountain from Big Rock Trail</th>\n",
       "      <td>71</td>\n",
       "    </tr>\n",
       "    <tr>\n",
       "      <th>Cedar Creek Falls Trail</th>\n",
       "      <td>68</td>\n",
       "    </tr>\n",
       "  </tbody>\n",
       "</table>\n",
       "</div>"
      ],
      "text/plain": [
       "                                     Total_Ratings\n",
       "Recommended_Trails                                \n",
       "Cowles Mountain Trail                          188\n",
       "Fortuna Mountain Trail                         154\n",
       "Kwaay Paay Peak Trail                          134\n",
       "Lake Hodges Overlook Trail                     118\n",
       "Three Sisters Waterfalls Trail                 115\n",
       "El Cajon Mountain Trail                        114\n",
       "Torrey Pines Beach Trail Loop                   98\n",
       "Los Penasquitos Canyon Trail                    76\n",
       "Cowles Mountain from Big Rock Trail             71\n",
       "Cedar Creek Falls Trail                         68"
      ]
     },
     "execution_count": 75,
     "metadata": {},
     "output_type": "execute_result"
    }
   ],
   "source": [
    "generate_recommended_trails(5, 200)"
   ]
  },
  {
   "cell_type": "markdown",
   "metadata": {},
   "source": [
    "This code shows the cosine_mat for user #5. the -2 is to bypass the user similarity to it's self which will be 1. The closer the value is to 1 the more similar it is. The more it moves away from 1 and closer to -1 the more dissimilar it is. "
   ]
  },
  {
   "cell_type": "code",
   "execution_count": 85,
   "metadata": {},
   "outputs": [
    {
     "data": {
      "text/plain": [
       "array([0.63287759, 0.61462741, 0.56375861, 0.56203901, 0.51601932,\n",
       "       0.50748949, 0.50748949, 0.50410628, 0.50270297, 0.49603025])"
      ]
     },
     "execution_count": 85,
     "metadata": {},
     "output_type": "execute_result"
    }
   ],
   "source": [
    "np.sort(cosine_mat[5])[-2:(-12):-1]"
   ]
  },
  {
   "cell_type": "markdown",
   "metadata": {},
   "source": [
    "This code calls the generate_recommended_trails function for the main user we want to compare with at 5 and we want to evaluate the top 20 most similar users. These are the trails it recommends, starting with Torrey Pines Beach Trail Loop and so on because it has the highest ratings. "
   ]
  },
  {
   "cell_type": "code",
   "execution_count": 70,
   "metadata": {
    "scrolled": false
   },
   "outputs": [
    {
     "name": "stdout",
     "output_type": "stream",
     "text": [
      "Leonardo Dumo\n",
      "Potato Chip Rock via Mt. Woodson Trail 5\n",
      "Iron Mountain Trail 4\n",
      "Mission Peak Loop from Stanford Avenue Staging Area 5\n",
      "Torrey Pines - Red Butte, Yucca Point, and Razor Point 4\n",
      "Lake Miramar Trail 4\n",
      "San Diego Coastline: Chula Vista to Coronado 3\n"
     ]
    },
    {
     "data": {
      "text/html": [
       "<div>\n",
       "<style scoped>\n",
       "    .dataframe tbody tr th:only-of-type {\n",
       "        vertical-align: middle;\n",
       "    }\n",
       "\n",
       "    .dataframe tbody tr th {\n",
       "        vertical-align: top;\n",
       "    }\n",
       "\n",
       "    .dataframe thead th {\n",
       "        text-align: right;\n",
       "    }\n",
       "</style>\n",
       "<table border=\"1\" class=\"dataframe\">\n",
       "  <thead>\n",
       "    <tr style=\"text-align: right;\">\n",
       "      <th></th>\n",
       "      <th>Total_Ratings</th>\n",
       "    </tr>\n",
       "    <tr>\n",
       "      <th>Recommended_Trails</th>\n",
       "      <th></th>\n",
       "    </tr>\n",
       "  </thead>\n",
       "  <tbody>\n",
       "    <tr>\n",
       "      <th>Torrey Pines Beach Trail Loop</th>\n",
       "      <td>14</td>\n",
       "    </tr>\n",
       "    <tr>\n",
       "      <th>Lake Hodges Overlook Trail</th>\n",
       "      <td>12</td>\n",
       "    </tr>\n",
       "    <tr>\n",
       "      <th>Mother Miguel Mountain Via Rock House Trail</th>\n",
       "      <td>10</td>\n",
       "    </tr>\n",
       "    <tr>\n",
       "      <th>Los Penasquitos Canyon Trail</th>\n",
       "      <td>9</td>\n",
       "    </tr>\n",
       "    <tr>\n",
       "      <th>Cowles Mountain Trail</th>\n",
       "      <td>9</td>\n",
       "    </tr>\n",
       "    <tr>\n",
       "      <th>Twin Peaks Trail</th>\n",
       "      <td>9</td>\n",
       "    </tr>\n",
       "    <tr>\n",
       "      <th>Snake Trail</th>\n",
       "      <td>8</td>\n",
       "    </tr>\n",
       "    <tr>\n",
       "      <th>Double Peak Trail</th>\n",
       "      <td>8</td>\n",
       "    </tr>\n",
       "    <tr>\n",
       "      <th>Nighthawk Trail Black Mountain Loop</th>\n",
       "      <td>6</td>\n",
       "    </tr>\n",
       "    <tr>\n",
       "      <th>Cowles Mountain from Big Rock Trail</th>\n",
       "      <td>6</td>\n",
       "    </tr>\n",
       "  </tbody>\n",
       "</table>\n",
       "</div>"
      ],
      "text/plain": [
       "                                             Total_Ratings\n",
       "Recommended_Trails                                        \n",
       "Torrey Pines Beach Trail Loop                           14\n",
       "Lake Hodges Overlook Trail                              12\n",
       "Mother Miguel Mountain Via Rock House Trail             10\n",
       "Los Penasquitos Canyon Trail                             9\n",
       "Cowles Mountain Trail                                    9\n",
       "Twin Peaks Trail                                         9\n",
       "Snake Trail                                              8\n",
       "Double Peak Trail                                        8\n",
       "Nighthawk Trail Black Mountain Loop                      6\n",
       "Cowles Mountain from Big Rock Trail                      6"
      ]
     },
     "execution_count": 70,
     "metadata": {},
     "output_type": "execute_result"
    }
   ],
   "source": [
    "generate_recommended_trails(5, 20)"
   ]
  },
  {
   "cell_type": "markdown",
   "metadata": {},
   "source": [
    "## Summary:\n",
    "\n",
    "1. Successfully able to generate a cosine matrix.\n",
    "2. Successfully able to look at user to user similarities based on ratings of the trails\n",
    "3. Successfully create a function that extracts trails the main user hasn't reviewed yet and suggest the highest rating total as the suggested trails for the main user to try next based on user to user similarities.\n",
    "\n",
    "    "
   ]
  },
  {
   "cell_type": "markdown",
   "metadata": {},
   "source": [
    "## Next Steps for Future Improvements:\n",
    "\n",
    "1. I want to be able to built a flask app to show the recommendations and also for anyone to enter in certain descriptions of the type of trails they want to hike and returns a list of possible trails as a recommendation.\n",
    "2. I want put a threshold on the number of similar users based on the cosine matrix value. i.e. like a cutoff at cos theta value of .45\n",
    "3. I want to be able to reduce memory time, RAM usage, and save the all_user_df. These were a memory hog. I need to be able to change them in a sparse matrix or a numpy array so the computer can run more efficiently.\n",
    "4. I didn't get to use the features like difficulty of trails, distance of trails, and location of the trails. I want to be able to do item to item with user to user in the future.\n",
    "5. Finally, I want to be able to validate my recommendation system, with a train test split and predicting a known trail the main user has already reviewed."
   ]
  }
 ],
 "metadata": {
  "kernelspec": {
   "display_name": "Python 3",
   "language": "python",
   "name": "python3"
  },
  "language_info": {
   "codemirror_mode": {
    "name": "ipython",
    "version": 3
   },
   "file_extension": ".py",
   "mimetype": "text/x-python",
   "name": "python",
   "nbconvert_exporter": "python",
   "pygments_lexer": "ipython3",
   "version": "3.6.6"
  }
 },
 "nbformat": 4,
 "nbformat_minor": 2
}
